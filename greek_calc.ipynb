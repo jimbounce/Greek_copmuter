{
  "nbformat": 4,
  "nbformat_minor": 0,
  "metadata": {
    "colab": {
      "provenance": [],
      "authorship_tag": "ABX9TyMVt9dyu6GpWTBvao3lfCbB",
      "include_colab_link": true
    },
    "kernelspec": {
      "name": "python3",
      "display_name": "Python 3"
    },
    "language_info": {
      "name": "python"
    }
  },
  "cells": [
    {
      "cell_type": "markdown",
      "metadata": {
        "id": "view-in-github",
        "colab_type": "text"
      },
      "source": [
        "<a href=\"https://colab.research.google.com/github/jimbounce/Greek_copmuter/blob/main/greek_calc.ipynb\" target=\"_parent\"><img src=\"https://colab.research.google.com/assets/colab-badge.svg\" alt=\"Open In Colab\"/></a>"
      ]
    },
    {
      "cell_type": "code",
      "execution_count": 29,
      "metadata": {
        "id": "e9Kz8AuGsNht"
      },
      "outputs": [],
      "source": [
        "import numpy as np\n",
        "# All capitals always count outermost=A,B,C,D = innermost\n",
        "\n",
        "# Assigning values\n",
        "A = np.array([1,0,9,0,12,0,6,0,10,0,10,0])\n",
        "a0 = np.array([12,2,5,10,7,16,8,7,8,8,3,4]) # This line never moves\n",
        "\n",
        "B = np.array([5,0,10,0,8,0,22,0,16,0,9,0])\n",
        "b1 = np.array([3,26,6,0,2,13,9,0,17,19,3,12])\n",
        "b0 = np.array([6,3,3,14,14,21,21,9,9,4,4,6])\n",
        "\n",
        "C = np.array([4,0,7,15,0,0,14,0,9,0,12,0])\n",
        "c2 = np.array([21,6,15,4,9,18,11,26,14,1,12,0])\n",
        "c1 = np.array([9,20,12,3,6,0,14,12,3,8,9,0])\n",
        "c0 = np.array([7,8,9,10,11,12,13,14,15,4,5,6])\n",
        "\n",
        "D = np.array([3,0,6,0,10,0,7,0,15,0,8,0])\n",
        "d3 = np.array([7,3,0,6,0,11,11,6,11,0,6,17])\n",
        "d2 = np.array([9,13,9,7,13,21,17,4,5,0,7,8])\n",
        "d1 = np.array([7,0,9,0,7,14,11,0,8,0,16,2])\n",
        "d0 = np.array([11,14,11,14,14,11,14,11,14,11,11,14])"
      ]
    },
    {
      "cell_type": "code",
      "source": [
        "# Rotating the D ring\n",
        "for iD in range(12):\n",
        "  # print(\"PositionD\", iD+1)\n",
        "  spinD = np.concatenate((D[iD:], D[:iD]));\n",
        "\n",
        "  # Gaps in D ring\n",
        "  spinD_gap_indexes= np.nonzero(spinD == 0);\n",
        "  for jD in spinD_gap_indexes:\n",
        "    spinD[jD] = d3[jD]\n",
        "\n",
        "  # gaps in d3\n",
        "    d3_gap_indexes= np.nonzero(d3 == 0);\n",
        "    for jd3 in d3_gap_indexes:\n",
        "      spinD[jd3] = d2[jd3]\n",
        "\n",
        "    # gaps in d2\n",
        "      d2_gap_indexes= np.nonzero(d2 == 0);\n",
        "      for jd2 in d2_gap_indexes:\n",
        "        spinD[jd2] = d1[jd2]\n",
        "\n",
        "      # gaps in d1\n",
        "        d1_gap_indexes= np.nonzero(d1 == 0);\n",
        "        for jd1 in d1_gap_indexes:\n",
        "          spinD[jd1] = d0[jd1]\n",
        "\n",
        "          # Rotating the C ring\n",
        "          for iC in range(12):\n",
        "          spinC = np.concatenate((C[iC:], C[:iC]))\n",
        "          # Gaps in C ring\n",
        "          spinC_gap_indexes= np.nonzero(spinC == 0);\n",
        "          for jC in spinC_gap_indexes:\n",
        "            spinC[jC] = c2[jC]\n",
        "            # gaps in c2\n",
        "            c2_gap_indexes= np.nonzero(c2 == 0);\n",
        "            for jc2 in c2_gap_indexes:\n",
        "              spinC[jc2] = c1[jc2]\n",
        "              # gaps in c1\n",
        "              c1_gap_indexes= np.nonzero(c1 == 0);\n",
        "              for jc1 in c1_gap_indexes:\n",
        "                spinC[jc1] = c0[jc1]\n",
        "                # Rotating the B ring\n",
        "                for iB in range(12):\n",
        "                  spinB = np.concatenate((B[iB:], B[:iB]))\n",
        "                  # Gaps in B ring\n",
        "                  spinB_gap_indexes= np.nonzero(spinB == 0);\n",
        "                  # Using values from under gaps\n",
        "                  for jB in spinB_gap_indexes:\n",
        "                    spinB[jB] = b1[jB]\n",
        "                  # gaps in b1\n",
        "                    b1_gap_indexes= np.nonzero(b1 == 0)\n",
        "                    for jb1 in b1_gap_indexes:\n",
        "                      spinB[jb1] = b0[jb1]\n",
        "                      # Rotating the A ring\n",
        "                      for iA in range(12):\n",
        "                        spinA = np.concatenate((A[iA:], A[:iA]))\n",
        "                        # print(\"spinA\", spinA)\n",
        "                        # Gaps in A ring\n",
        "                        spinA_gap_indexes= np.nonzero(spinA == 0);\n",
        "                        # print(spinA_gap_indexes)\n",
        "                        # Using values from under gaps\n",
        "                        for jA in spinA_gap_indexes:_\n",
        "                        spinA[jA] = a0[jA]\n",
        "                        # print(\"spinA\", spinA,\"\\n\")\n",
        "\n",
        "\n",
        "                          s0=spinA[0]+spinB[0]+spinC[0]+spinD[0]\n",
        "                          s1=spinA[1]+spinB[1]+spinC[1]+spinD[1]\n",
        "                          s2=spinA[2]+spinB[2]+spinC[2]+spinD[2]\n",
        "                          s3=spinA[3]+spinB[3]+spinC[3]+spinD[3]\n",
        "                          s4=spinA[4]+spinB[4]+spinC[4]+spinD[4]\n",
        "                          s5=spinA[5]+spinB[5]+spinC[5]+spinD[5]\n",
        "                          s6=spinA[6]+spinB[6]+spinC[6]+spinD[6]\n",
        "                          s7=spinA[7]+spinB[7]+spinC[7]+spinD[7]\n",
        "                          s8=spinA[8]+spinB[8]+spinC[8]+spinD[8]\n",
        "                          s9= spinA[9]+spinB[9]+spinC[9]+spinD[9]\n",
        "                          s10=spinA[10]+spinB[10]+spinC[10]+spinD[10]\n",
        "                          s11=spinA[11]+spinB[11]+spinC[11]+spinD[11]\n",
        "\n",
        "                          if s0==s1==s2==s3==s4==s5==s6==s7==s8==s9==s10==s11==42:\n",
        "                            print(\"all are 42\", spinA, spinB, spinC, spinD)\n",
        "    #   print(\"sum \", spinA[0]+spinB[0]+spinC[0]+spinD[0])\n",
        "    # FortyTwo = all([spinA[k]+spinB[k]+spinC[k]+spinD[k] == 42 for k in range(12)])\n",
        "    # if FortyTwo == True:\n",
        "    #   print(\"Yes\")\n",
        "    #   # print(\"winA=\",spinA[:3], \"winB=\",spinB[:2], \"winC=\",spinC[:2], \"winD=\",spinD[:2])"
      ],
      "metadata": {
        "id": "xJm7iifMv54W"
      },
      "execution_count": 30,
      "outputs": []
    }
  ]
}