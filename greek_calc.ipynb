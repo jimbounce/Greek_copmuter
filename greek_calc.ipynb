{
  "nbformat": 4,
  "nbformat_minor": 0,
  "metadata": {
    "colab": {
      "provenance": [],
      "authorship_tag": "ABX9TyPnczT1HEEdV/6r81HS/Se6",
      "include_colab_link": true
    },
    "kernelspec": {
      "name": "python3",
      "display_name": "Python 3"
    },
    "language_info": {
      "name": "python"
    }
  },
  "cells": [
    {
      "cell_type": "markdown",
      "metadata": {
        "id": "view-in-github",
        "colab_type": "text"
      },
      "source": [
        "<a href=\"https://colab.research.google.com/github/jimbounce/Greek_copmuter/blob/main/greek_calc.ipynb\" target=\"_parent\"><img src=\"https://colab.research.google.com/assets/colab-badge.svg\" alt=\"Open In Colab\"/></a>"
      ]
    },
    {
      "cell_type": "code",
      "execution_count": 8,
      "metadata": {
        "id": "e9Kz8AuGsNht"
      },
      "outputs": [],
      "source": [
        "import numpy as np\n",
        "# All capitals always count outermost=A,B,C,D = innermost\n",
        "\n",
        "# Assigning values\n",
        "A = np.array([1,0,9,0,12,0,6,0,10,0,10,0])\n",
        "a0 = np.array([12,2,5,10,7,16,8,7,8,8,3,4]) # This line never moves\n",
        "\n",
        "B = np.array([5,0,10,0,8,0,22,0,16,0,9,0])\n",
        "b1 = np.array([3,26,6,0,2,13,9,0,17,19,3,12])\n",
        "b0 = np.array([6,3,3,14,14,21,21,9,9,4,4,6]) # This line never moves\n",
        "\n",
        "C = np.array([4,0,7,15,0,0,14,0,9,0,12,0])\n",
        "c2 = np.array([21,6,15,4,9,18,11,26,14,1,12,0])\n",
        "c1 = np.array([9,20,12,3,6,0,14,12,3,8,9,0])\n",
        "c0 = np.array([7,8,9,10,11,12,13,14,15,4,5,6]) # This line never moves\n",
        "\n",
        "D = np.array([3,0,6,0,10,0,7,0,15,0,8,0])\n",
        "d3 = np.array([7,3,0,6,0,11,11,6,11,0,6,17])\n",
        "d2 = np.array([9,13,9,7,13,21,17,4,5,0,7,8])\n",
        "d1 = np.array([7,0,9,0,7,14,11,0,8,0,16,2])\n",
        "d0 = np.array([11,14,11,14,14,11,14,11,14,11,11,14]) # This line never moves"
      ]
    },
    {
      "cell_type": "code",
      "source": [
        "# same ring dependancies\n",
        "# A spins w. b1, c1, d1\n",
        "# B spins w.\n",
        "# C\n",
        "# D spin\n",
        "\n",
        "for i in range(12):\n",
        "  A = np.roll(A, 1)\n",
        "  a0 = np.roll(a0, 1)\n",
        "  B = np.roll(B, 1)\n",
        "  b1 = np.roll(b1, 1)\n",
        "  b0 = np.roll(b0, 1)\n",
        "  C = np.roll(C, 1)\n",
        "  c2 = np.roll(c2, 1)\n",
        "  c1 = np.roll(c1, 1)\n",
        "  c0 = np.roll(c0, 1)\n",
        "  D = np.roll(D, 1)\n",
        "  d3 = np.roll(d3, 1)\n",
        "  d2 = np.roll(d2, 1)\n",
        "  d1 = np.roll(d1, 1)\n",
        "  d0 = np.roll(d0, 1)\n",
        "\n",
        "  print(c2)\n",
        "\n",
        "        # Replacing A,B,C,D gaps\n",
        "        for m in range(len(D)):\n",
        "          if D[m]!=0:\n",
        "              break\n",
        "          elif D[m]==0 and d3[m]!=0:\n",
        "            D[m] = d3[m]\n",
        "            break\n",
        "          elif D[m]==0 and d3[m]==0 and d2[m]!=0:\n",
        "            D[m] = d2[m]\n",
        "            break\n",
        "          elif D[m]==0 and d3[m]==0 and d2[m]==0 and d1[m]!=0:\n",
        "            D[m] = d1[m]\n",
        "            break\n",
        "          else:\n",
        "            D[m] = d0[m]\n",
        "\n",
        "        for n in range(len(C)):\n",
        "          if C[n]!=0:\n",
        "            break\n",
        "          elif C[n]==0 and c2[n]!=0:\n",
        "            C[n] = c2[n]\n",
        "            break\n",
        "          elif C[n]==0 and c2[n]==0 and c1[n]!=0:\n",
        "            C[n] = c1[n]\n",
        "            break\n",
        "          else:\n",
        "            C[n] = c0[n]\n",
        "\n",
        "        for p in range(len(B)):\n",
        "          if B[p]!=0:\n",
        "            break\n",
        "          elif B[p] == 0 and b1[p]!=0:\n",
        "            B[p] = b1[p]\n",
        "            break\n",
        "          elif B[p]==0 and b1[p]==0:\n",
        "              B[p] = b0[p]\n",
        "\n",
        "        for q in range(len(A)):\n",
        "          if A[q]!=0:\n",
        "            break\n",
        "          elif A[q] == 0:\n",
        "            A[q] = a0[q]\n",
        "\n",
        "        s0=A[0]+B[0]+C[0]+D[0]\n",
        "        s1=A[1]+B[1]+C[1]+D[1]\n",
        "        s2=A[2]+B[2]+C[2]+D[2]\n",
        "        s3=A[3]+B[3]+C[3]+D[3]\n",
        "        s4=A[4]+B[4]+C[4]+D[4]\n",
        "        s5=A[5]+B[5]+C[5]+D[5]\n",
        "        s6=A[6]+B[6]+C[6]+D[6]\n",
        "        s7=A[7]+B[7]+C[7]+D[7]\n",
        "        s8=A[8]+B[8]+C[8]+D[8]\n",
        "        s9= A[9]+B[9]+C[9]+D[9]\n",
        "        s10=A[10]+B[10]+C[10]+D[10]\n",
        "        s11=A[11]+B[11]+C[11]+D[11]\n",
        "\n",
        "        if s0==s1==s2==s3==s4==s5==s6==s7==s8==s9==s10==s11==42:\n",
        "          print(\"all are 42\", A, B, C, D)\n",
        "          break\n",
        "\n",
        "print(count)\n",
        "\n",
        "#   print(\"sum \", A[0]+B[0]+C[0]+D[0])\n",
        "# FortyTwo = all([A[k]+B[k]+C[k]+D[k] == 42 for k in range(12)])\n",
        "# if FortyTwo == True:\n",
        "    #   print(\"Yes\")\n",
        "    #   # print(\"winA=\",A[:3], \"winB=\",B[:2], \"winC=\",C[:2], \"winD=\",D[:2])"
      ],
      "metadata": {
        "colab": {
          "base_uri": "https://localhost:8080/"
        },
        "id": "xJm7iifMv54W",
        "outputId": "55f47a22-f744-49a6-f483-3ed1f7bdd519"
      },
      "execution_count": 12,
      "outputs": [
        {
          "output_type": "stream",
          "name": "stdout",
          "text": [
            "[ 0 21  6 15  4  9 18 11 26 14  1 12]\n",
            "[12  0 21  6 15  4  9 18 11 26 14  1]\n",
            "[ 1 12  0 21  6 15  4  9 18 11 26 14]\n",
            "[14  1 12  0 21  6 15  4  9 18 11 26]\n",
            "[26 14  1 12  0 21  6 15  4  9 18 11]\n",
            "[11 26 14  1 12  0 21  6 15  4  9 18]\n",
            "[18 11 26 14  1 12  0 21  6 15  4  9]\n",
            "[ 9 18 11 26 14  1 12  0 21  6 15  4]\n",
            "[ 4  9 18 11 26 14  1 12  0 21  6 15]\n",
            "[15  4  9 18 11 26 14  1 12  0 21  6]\n",
            "[ 6 15  4  9 18 11 26 14  1 12  0 21]\n",
            "[21  6 15  4  9 18 11 26 14  1 12  0]\n"
          ]
        }
      ]
    }
  ]
}