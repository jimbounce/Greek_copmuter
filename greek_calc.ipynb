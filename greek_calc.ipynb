{
  "nbformat": 4,
  "nbformat_minor": 0,
  "metadata": {
    "colab": {
      "provenance": [],
      "include_colab_link": true
    },
    "kernelspec": {
      "name": "python3",
      "display_name": "Python 3"
    },
    "language_info": {
      "name": "python"
    }
  },
  "cells": [
    {
      "cell_type": "markdown",
      "metadata": {
        "id": "view-in-github",
        "colab_type": "text"
      },
      "source": [
        "<a href=\"https://colab.research.google.com/github/jimbounce/Greek_copmuter/blob/main/greek_calc.ipynb\" target=\"_parent\"><img src=\"https://colab.research.google.com/assets/colab-badge.svg\" alt=\"Open In Colab\"/></a>"
      ]
    },
    {
      "cell_type": "code",
      "execution_count": 223,
      "metadata": {
        "id": "e9Kz8AuGsNht"
      },
      "outputs": [],
      "source": [
        "import numpy as np\n",
        "# Initialising values\n",
        "A = np.array([1,0,9,0,12,0,6,0,10,0,10,0])\n",
        "a0 = np.array([12,2,5,10,7,16,8,7,8,8,3,4]) # This line never moves\n",
        "\n",
        "B = np.array([5,0,10,0,8,0,22,0,16,0,9,0])\n",
        "b1 = np.array([3,26,6,0,2,13,9,0,17,19,3,12])\n",
        "b0 = np.array([6,3,3,14,14,21,21,9,9,4,4,6]) # This line never moves\n",
        "\n",
        "C = np.array([4,0,7,15,0,0,14,0,9,0,12,0])\n",
        "c2 = np.array([21,6,15,4,9,18,11,26,14,1,12,0])\n",
        "c1 = np.array([9,20,12,3,6,0,14,12,3,8,9,0])\n",
        "c0 = np.array([7,8,9,10,11,12,13,14,15,4,5,6]) # This line never moves\n",
        "\n",
        "D = np.array([3,0,6,0,10,0,7,0,15,0,8,0])\n",
        "d3 = np.array([7,3,0,6,0,11,11,6,11,0,6,17])\n",
        "d2 = np.array([9,13,9,7,13,21,17,4,5,0,7,8])\n",
        "d1 = np.array([7,0,9,0,7,14,11,0,8,0,16,2])\n",
        "d0 = np.array([11,14,11,14,14,11,14,11,14,11,11,14]) # This line never moves\n",
        "\n",
        "# ring_depend = {\n",
        "#     tuple(A): [tuple(b1), tuple(c1), tuple(d1)],\n",
        "#     tuple(B): [tuple(c2), tuple(d2)],\n",
        "#     tuple(C): [tuple(d3)],\n",
        "#     tuple(D): [],\n",
        "#     tuple(a0): [],\n",
        "#     tuple(b1): [],\n",
        "#     tuple(b0): [],\n",
        "#     tuple(c2): [],\n",
        "#     tuple(c1): [],\n",
        "#     tuple(c0): [],\n",
        "#     tuple(d3): [],\n",
        "#     tuple(d2): [],\n",
        "#     tuple(d1): [],\n",
        "#     tuple(d0): []\n",
        "# }"
      ]
    },
    {
      "cell_type": "code",
      "source": [
        "def produce_combinations(A, B, C, D, a0, b1, b0, c2, c1, c0, d3, d2, d1, d0):\n",
        "  combinations = []\n",
        "  for i in range(12):\n",
        "    for j in range(12):\n",
        "      for k in range(12):\n",
        "        for l in range(12):\n",
        "          eachA= np.roll(A, i)\n",
        "          eachb1 = np.roll(b1, i)\n",
        "          eachc1 = np.roll(c1, i)\n",
        "          eachd1 = np.roll(d1, i)\n",
        "          #count +=1; print(count)\n",
        "          eachB = np.roll(B, j)\n",
        "          eachc2 = np.roll(c2, j)\n",
        "          eachd2 = np.roll(d2, j)\n",
        "          #count +=1; print(count)\n",
        "          eachC= np.roll(C, k)\n",
        "          eachd3 = np.roll(d3, k)\n",
        "          #count +=1; print(count)\n",
        "          eachD = np.roll(D, l)\n",
        "          #count +=1; print(count)\n",
        "\n",
        "          combinations.append((eachA, eachB, eachC, eachD, a0, eachb1, b0, eachc2, eachc1, c0, eachd3, eachd2, eachd1, d0))\n",
        "\n",
        "  return combinations #A, B, C, D, a0, b1, b0, c2, c1, c0, d3, d2, d1, d0\n",
        ""
      ],
      "metadata": {
        "id": "3rGnUhvO-pxt"
      },
      "execution_count": 224,
      "outputs": []
    },
    {
      "cell_type": "code",
      "source": [
        "def replace_gaps(A, B, C, D, a0, b1, b0, c2, c1, c0, d3, d2, d1, d0):\n",
        "    gaps_combs = []\n",
        "    for m in range(len(D)):\n",
        "        D_copy = np.copy(D)  # Create a copy of D\n",
        "        if D[m] == 0 and d3[m] != 0:\n",
        "            D_copy[m] = d3[m]\n",
        "        elif D[m] == 0 and d3[m] == 0 and d2[m] != 0:\n",
        "            D_copy[m] = d2[m]\n",
        "        elif D[m] == 0 and d3[m] == 0 and d2[m] == 0 and d1[m] != 0:\n",
        "            D_copy[m] = d1[m]\n",
        "        elif D[m] == 0 and d3[m] == 0 and d2[m] == 0 and d1[m] == 0:\n",
        "            D_copy[m] = d0[m]\n",
        "\n",
        "        for n in range(len(C)):\n",
        "            C_copy = np.copy(C)  # Create a copy of C\n",
        "            if C[n] == 0 and c2[n] != 0:\n",
        "                C_copy[n] = c2[n]\n",
        "            elif C[n] == 0 and c2[n] == 0 and c1[n] != 0:\n",
        "                C_copy[n] = c1[n]\n",
        "            elif C[n] == 0 and c2[n] == 0 and c1[n] == 0:\n",
        "                C_copy[n] = c0[n]\n",
        "\n",
        "            for p in range(len(B)):\n",
        "                B_copy = np.copy(B)  # Create a copy of B\n",
        "                if B[p] == 0 and b1[p] != 0:\n",
        "                    B_copy[p] = b1[p]\n",
        "                elif B[p] == 0 and b1[p] == 0:\n",
        "                    B_copy[p] = b0[p]\n",
        "\n",
        "                for q in range(len(A)):\n",
        "                    A_copy = np.copy(A)  # Create a copy of A\n",
        "                    if A[q] == 0:\n",
        "                        A_copy[q] = a0[q]\n",
        "                    gaps_combs.append((A_copy, B_copy, C_copy, D_copy))\n",
        "\n",
        "    return gaps_combs"
      ],
      "metadata": {
        "id": "xJm7iifMv54W"
      },
      "execution_count": 225,
      "outputs": []
    },
    {
      "cell_type": "code",
      "source": [
        "def sum_radii(A,B,C,D):\n",
        "  s = []\n",
        "  A_copy = np.copy(A)  # Create a copy of A\n",
        "  B_copy = np.copy(B)  # Create a copy of B\n",
        "  C_copy = np.copy(C)  # Create a copy of C\n",
        "  D_copy = np.copy(D)  # Create a copy of D\n",
        "  for i in range(12):\n",
        "    s.append(A_copy[i]+B_copy[i]+C_copy[i]+D_copy[i])\n",
        "\n",
        "  return s, A_copy, B_copy, C_copy, D_copy\n",
        ""
      ],
      "metadata": {
        "id": "Ro0FlzJR6Z3f"
      },
      "execution_count": 226,
      "outputs": []
    },
    {
      "cell_type": "code",
      "source": [
        "combinations = produce_combinations(A, B, C, D, a0, b1, b0, c2, c1, c0, d3, d2, d1, d0)\n",
        "# print(len(combinations))\n",
        "# print(combinations[1:3])\n",
        "for combination in combinations:\n",
        "  A, B, C, D, a0, b1, b0, c2, c1, c0, d3, d2, d1, d0 = combination\n",
        "\n",
        "gaps_combs = replace_gaps(A, B, C, D, a0, b1, b0, c2, c1, c0, d3, d2, d1, d0)\n",
        "for gaps in gaps_combs:\n",
        "  A, B, C, D = gaps\n",
        "\n",
        "#print(len(A))\n",
        "s, A_copy, B_copy, C_copy, D_copy = sum_radii(A, B, C, D)\n",
        "s0,s1,s2,s3,s4,s5,s6,s7,s8,s9,s10,s11 = s\n",
        "\n",
        "s0_shape = s0.shape; print(s0_shape)\n",
        "A_shape = A.shape; print(A_shape)\n",
        "\n",
        "if s0==s1==s2==s3==s4==s5==s6==s7==s8==s9==s10==s11==42:\n",
        "  print(A, B, C, D)\n"
      ],
      "metadata": {
        "colab": {
          "base_uri": "https://localhost:8080/"
        },
        "id": "_JSBhHPYAZ7W",
        "outputId": "61d35398-0103-4a2d-ad47-1c47bdad4aef"
      },
      "execution_count": 227,
      "outputs": [
        {
          "output_type": "stream",
          "name": "stdout",
          "text": [
            "()\n",
            "(12,)\n"
          ]
        }
      ]
    }
  ]
}