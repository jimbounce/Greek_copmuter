{
  "nbformat": 4,
  "nbformat_minor": 0,
  "metadata": {
    "colab": {
      "provenance": [],
      "authorship_tag": "ABX9TyMLslHwiAE42sOJiBWVjp2q",
      "include_colab_link": true
    },
    "kernelspec": {
      "name": "python3",
      "display_name": "Python 3"
    },
    "language_info": {
      "name": "python"
    }
  },
  "cells": [
    {
      "cell_type": "markdown",
      "metadata": {
        "id": "view-in-github",
        "colab_type": "text"
      },
      "source": [
        "<a href=\"https://colab.research.google.com/github/jimbounce/Greek_copmuter/blob/main/greek_calc.ipynb\" target=\"_parent\"><img src=\"https://colab.research.google.com/assets/colab-badge.svg\" alt=\"Open In Colab\"/></a>"
      ]
    },
    {
      "cell_type": "code",
      "execution_count": null,
      "metadata": {
        "id": "e9Kz8AuGsNht"
      },
      "outputs": [],
      "source": [
        "import numpy as np\n",
        "# All capitals always count outermost=A,B,C,D = innermost\n",
        "\n",
        "# Assigning values\n",
        "A = np.array([1,0,9,0,12,0,6,0,10,0,10,0])\n",
        "a0 = np.array([12,2,5,10,7,16,8,7,8,8,3,4]) # This line never moves\n",
        "\n",
        "B = np.array([5,0,10,0,8,0,22,0,16,0,9,0])\n",
        "b1 = np.array([3,26,6,0,2,13,9,0,17,19,3,12])\n",
        "b0 = np.array([6,3,3,14,14,21,21,9,9,4,4,6])\n",
        "\n",
        "C = np.array([4,0,7,15,0,0,14,0,9,0,12,0])\n",
        "c2 = np.array([21,6,15,4,9,18,11,26,14,1,12,0])\n",
        "c1 = np.array([9,20,12,3,6,0,14,12,3,8,9,0])\n",
        "c0 = np.array([7,8,9,10,11,12,13,14,15,4,5,6])\n",
        "\n",
        "D = np.array([3,0,6,0,10,0,7,0,15,0,8,0])\n",
        "d3 = np.array([7,3,0,6,0,11,11,6,11,0,6,17])\n",
        "d2 = np.array([9,13,9,7,13,21,17,4,5,0,7,8])\n",
        "d1 = np.array([7,0,9,0,7,14,11,0,8,0,16,2])\n",
        "d0 = np.array([11,14,11,14,14,11,14,11,14,11,11,14])\n",
        "\n",
        "\n"
      ]
    },
    {
      "cell_type": "code",
      "source": [
        "# Rotating the A ring\n",
        "for iA in range(12):\n",
        "  print(\"Position\", iA+1)\n",
        "  spinA = np.concatenate((A[iA:], A[:iA]))\n",
        "  print(spinA)\n",
        "  # Gaps in A ring\n",
        "  spinA_gap_indexes= np.nonzero(spinA == 0);    print(spinA_gap_indexes)\n",
        "  # Using values from under gaps\n",
        "  for jA in spinA_gap_indexes:_\n",
        "  spinA[jA] = a0[jA]\n",
        "  print(spinA,\"\\n\")\n",
        "\n",
        "\n",
        "    FortyTwo = all([spinA[k]+spinB[k]+spinC[k]+spinD[k] == 42 for k in range(12)])\n",
        "    if FortyTwo = True:\n",
        "      print(\"winA=\",spinA, \"winB=\",spinB, \"winC=\",spinC, \"winD=\",spinD)"
      ],
      "metadata": {
        "colab": {
          "base_uri": "https://localhost:8080/"
        },
        "id": "xJm7iifMv54W",
        "outputId": "af85c1cb-c400-4ed4-eeda-bd79d8191c5d"
      },
      "execution_count": null,
      "outputs": [
        {
          "output_type": "stream",
          "name": "stdout",
          "text": [
            "Position 1\n",
            "[ 1  0  9  0 12  0  6  0 10  0 10  0]\n",
            "(array([ 1,  3,  5,  7,  9, 11]),)\n",
            "[ 1  2  9 10 12 16  6  7 10  8 10  4] \n",
            "\n",
            "Position 2\n",
            "[ 0  9  0 12  0  6  0 10  0 10  0  1]\n",
            "(array([ 0,  2,  4,  6,  8, 10]),)\n",
            "[12  9  5 12  7  6  8 10  8 10  3  1] \n",
            "\n",
            "Position 3\n",
            "[ 9  0 12  0  6  0 10  0 10  0  1  0]\n",
            "(array([ 1,  3,  5,  7,  9, 11]),)\n",
            "[ 9  2 12 10  6 16 10  7 10  8  1  4] \n",
            "\n",
            "Position 4\n",
            "[ 0 12  0  6  0 10  0 10  0  1  0  9]\n",
            "(array([ 0,  2,  4,  6,  8, 10]),)\n",
            "[12 12  5  6  7 10  8 10  8  1  3  9] \n",
            "\n",
            "Position 5\n",
            "[12  0  6  0 10  0 10  0  1  0  9  0]\n",
            "(array([ 1,  3,  5,  7,  9, 11]),)\n",
            "[12  2  6 10 10 16 10  7  1  8  9  4] \n",
            "\n",
            "Position 6\n",
            "[ 0  6  0 10  0 10  0  1  0  9  0 12]\n",
            "(array([ 0,  2,  4,  6,  8, 10]),)\n",
            "[12  6  5 10  7 10  8  1  8  9  3 12] \n",
            "\n",
            "Position 7\n",
            "[ 6  0 10  0 10  0  1  0  9  0 12  0]\n",
            "(array([ 1,  3,  5,  7,  9, 11]),)\n",
            "[ 6  2 10 10 10 16  1  7  9  8 12  4] \n",
            "\n",
            "Position 8\n",
            "[ 0 10  0 10  0  1  0  9  0 12  0  6]\n",
            "(array([ 0,  2,  4,  6,  8, 10]),)\n",
            "[12 10  5 10  7  1  8  9  8 12  3  6] \n",
            "\n",
            "Position 9\n",
            "[10  0 10  0  1  0  9  0 12  0  6  0]\n",
            "(array([ 1,  3,  5,  7,  9, 11]),)\n",
            "[10  2 10 10  1 16  9  7 12  8  6  4] \n",
            "\n",
            "Position 10\n",
            "[ 0 10  0  1  0  9  0 12  0  6  0 10]\n",
            "(array([ 0,  2,  4,  6,  8, 10]),)\n",
            "[12 10  5  1  7  9  8 12  8  6  3 10] \n",
            "\n",
            "Position 11\n",
            "[10  0  1  0  9  0 12  0  6  0 10  0]\n",
            "(array([ 1,  3,  5,  7,  9, 11]),)\n",
            "[10  2  1 10  9 16 12  7  6  8 10  4] \n",
            "\n",
            "Position 12\n",
            "[ 0  1  0  9  0 12  0  6  0 10  0 10]\n",
            "(array([ 0,  2,  4,  6,  8, 10]),)\n",
            "[12  1  5  9  7 12  8  6  8 10  3 10] \n",
            "\n"
          ]
        }
      ]
    },
    {
      "cell_type": "code",
      "source": [],
      "metadata": {
        "colab": {
          "base_uri": "https://localhost:8080/"
        },
        "id": "OzwU3Se-dAEI",
        "outputId": "084d713a-c3b4-4013-c20c-086418a0ea10"
      },
      "execution_count": null,
      "outputs": [
        {
          "output_type": "stream",
          "name": "stdout",
          "text": [
            "(array([ 1,  3,  5,  7,  9, 11]),)\n",
            "[ 1  2  9 10 12 16  6  7 10  8 10  4]\n"
          ]
        }
      ]
    }
  ]
}