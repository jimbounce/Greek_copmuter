{
  "nbformat": 4,
  "nbformat_minor": 0,
  "metadata": {
    "colab": {
      "provenance": [],
      "authorship_tag": "ABX9TyOqktJ3bNz8rP46er0hbpo1",
      "include_colab_link": true
    },
    "kernelspec": {
      "name": "python3",
      "display_name": "Python 3"
    },
    "language_info": {
      "name": "python"
    }
  },
  "cells": [
    {
      "cell_type": "markdown",
      "metadata": {
        "id": "view-in-github",
        "colab_type": "text"
      },
      "source": [
        "<a href=\"https://colab.research.google.com/github/jimbounce/Greek_copmuter/blob/main/greek_calc.ipynb\" target=\"_parent\"><img src=\"https://colab.research.google.com/assets/colab-badge.svg\" alt=\"Open In Colab\"/></a>"
      ]
    },
    {
      "cell_type": "code",
      "execution_count": 31,
      "metadata": {
        "id": "e9Kz8AuGsNht"
      },
      "outputs": [],
      "source": [
        "import numpy as np\n",
        "# All capitals always count outermost=A,B,C,D = innermost\n",
        "\n",
        "# Assigning values\n",
        "A = np.array([1,0,9,0,12,0,6,0,10,0,10,0])\n",
        "a0 = np.array([12,2,5,10,7,16,8,7,8,8,3,4]) # This line never moves\n",
        "\n",
        "B = np.array([5,0,10,0,8,0,22,0,16,0,9,0])\n",
        "b1 = np.array([3,26,6,0,2,13,9,0,17,19,3,12])\n",
        "b0 = np.array([6,3,3,14,14,21,21,9,9,4,4,6]) # This line never moves\n",
        "\n",
        "C = np.array([4,0,7,15,0,0,14,0,9,0,12,0])\n",
        "c2 = np.array([21,6,15,4,9,18,11,26,14,1,12,0])\n",
        "c1 = np.array([9,20,12,3,6,0,14,12,3,8,9,0])\n",
        "c0 = np.array([7,8,9,10,11,12,13,14,15,4,5,6]) # This line never moves\n",
        "\n",
        "D = np.array([3,0,6,0,10,0,7,0,15,0,8,0])\n",
        "d3 = np.array([7,3,0,6,0,11,11,6,11,0,6,17])\n",
        "d2 = np.array([9,13,9,7,13,21,17,4,5,0,7,8])\n",
        "d1 = np.array([7,0,9,0,7,14,11,0,8,0,16,2])\n",
        "d0 = np.array([11,14,11,14,14,11,14,11,14,11,11,14]) # This line never moves"
      ]
    },
    {
      "cell_type": "code",
      "source": [
        "# same ring dependancies\n",
        "count = 0\n",
        "for i in range(12):\n",
        "  D = np.concatenate((D[i:], D[:i]))\n",
        "  for j in range(12):\n",
        "    C = np.concatenate((C[j:], C[:j]))\n",
        "    d3 = np.concatenate((d3[j:], d3[:j]))\n",
        "    for k in range(12):\n",
        "      B = np.concatenate((B[k:], B[:k]))\n",
        "      c2 = np.concatenate((c2[k:], c2[:k]))\n",
        "      d2 = np.concatenate((d2[k:], d2[:k]))\n",
        "      for l in range(12):\n",
        "        A = np.concatenate((A[l:], A[:l]))\n",
        "        b1 = np.concatenate((b1[l:], b1[:l]))\n",
        "        c1 = np.concatenate((c1[l:], c1[:l]))\n",
        "        d1 = np.concatenate((d1[l:], d1[:l]))\n",
        "        count += 1\n",
        "\n",
        "        # Replacing A,B,C,D gaps\n",
        "        for m in range(len(D)):\n",
        "          if D[m] == 0:\n",
        "            D[m] = d3[m]\n",
        "            if d3[m] == 0:\n",
        "              D[m] = d2[m]\n",
        "              if d2[m] == 0:\n",
        "                D[m] = d1[m]\n",
        "                if d1[m] == 0:\n",
        "                  D[m] = d0[m]\n",
        "\n",
        "          for n in range(len(C)):\n",
        "            if C[n] == 0:\n",
        "              C[n] = c2[n]\n",
        "              if c2[n] == 0:\n",
        "                C[n] = c1[n]\n",
        "                if c1[n] == 0:\n",
        "                  C[n] = c0[n]\n",
        "\n",
        "            for p in range(len(B)):\n",
        "              if B[p] == 0:\n",
        "                B[p] = b1[p]\n",
        "                if b1[p] ==0:\n",
        "                  B[p] = b0[p]\n",
        "\n",
        "              for q in range(len(A)):\n",
        "                if A[q] == 0:\n",
        "                  A[q] = a0[q]\n",
        "\n",
        "              s0=A[0]+B[0]+C[0]+D[0]\n",
        "              #print(s0)\n",
        "              s1=A[1]+B[1]+C[1]+D[1]\n",
        "              s2=A[2]+B[2]+C[2]+D[2]\n",
        "              s3=A[3]+B[3]+C[3]+D[3]\n",
        "              s4=A[4]+B[4]+C[4]+D[4]\n",
        "              s5=A[5]+B[5]+C[5]+D[5]\n",
        "              s6=A[6]+B[6]+C[6]+D[6]\n",
        "              s7=A[7]+B[7]+C[7]+D[7]\n",
        "              s8=A[8]+B[8]+C[8]+D[8]\n",
        "              s9= A[9]+B[9]+C[9]+D[9]\n",
        "              s10=A[10]+B[10]+C[10]+D[10]\n",
        "              s11=A[11]+B[11]+C[11]+D[11]\n",
        "\n",
        "              if s0==s1==s2==s3==s4==s5==s6==s7==s8==s9==s10==s11==42:\n",
        "                print(\"all are 42\", A, B, C, D)\n",
        "                break\n",
        "\n",
        "print(count)\n",
        "\n",
        "#   print(\"sum \", A[0]+B[0]+C[0]+D[0])\n",
        "# FortyTwo = all([A[k]+B[k]+C[k]+D[k] == 42 for k in range(12)])\n",
        "# if FortyTwo == True:\n",
        "    #   print(\"Yes\")\n",
        "    #   # print(\"winA=\",A[:3], \"winB=\",B[:2], \"winC=\",C[:2], \"winD=\",D[:2])"
      ],
      "metadata": {
        "colab": {
          "base_uri": "https://localhost:8080/"
        },
        "id": "xJm7iifMv54W",
        "outputId": "7c36f39b-13d5-4f0d-8837-fdf892e6a940"
      },
      "execution_count": 32,
      "outputs": [
        {
          "output_type": "stream",
          "name": "stdout",
          "text": [
            "20736\n"
          ]
        }
      ]
    }
  ]
}